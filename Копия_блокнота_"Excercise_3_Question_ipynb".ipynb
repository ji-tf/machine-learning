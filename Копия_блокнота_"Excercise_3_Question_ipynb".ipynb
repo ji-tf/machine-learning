{
  "nbformat": 4,
  "nbformat_minor": 0,
  "metadata": {
    "colab": {
      "provenance": [],
      "authorship_tag": "ABX9TyNpMVSfQSUp0x97PQeII/I5",
      "include_colab_link": true
    },
    "kernelspec": {
      "name": "python3",
      "display_name": "Python 3"
    },
    "language_info": {
      "name": "python"
    }
  },
  "cells": [
    {
      "cell_type": "markdown",
      "metadata": {
        "id": "view-in-github",
        "colab_type": "text"
      },
      "source": [
        "<a href=\"https://colab.research.google.com/github/ji-tf/machine-learning/blob/main/%D0%9A%D0%BE%D0%BF%D0%B8%D1%8F_%D0%B1%D0%BB%D0%BE%D0%BA%D0%BD%D0%BE%D1%82%D0%B0_%22Excercise_3_Question_ipynb%22.ipynb\" target=\"_parent\"><img src=\"https://colab.research.google.com/assets/colab-badge.svg\" alt=\"Open In Colab\"/></a>"
      ]
    },
    {
      "cell_type": "markdown",
      "source": [
        "# Упражнение 3"
      ],
      "metadata": {
        "id": "QYePOGqel6yL"
      }
    },
    {
      "cell_type": "markdown",
      "source": [
        "Код использует сверточный слой с 32 фильтрами размера 3x3, за которым следует слой MaxPooling 2D, а затем полносвязные слои для классификации. Также добавлен обратный вызов myCallback, чтобы прекратить обучение при достижении точности 99,8%."
      ],
      "metadata": {
        "id": "xyMi4iPhl9La"
      }
    },
    {
      "cell_type": "code",
      "execution_count": null,
      "metadata": {
        "colab": {
          "base_uri": "https://localhost:8080/"
        },
        "id": "go5fPyIUlywb",
        "outputId": "7aa37b00-1dfd-4741-f35e-4825167be717"
      },
      "outputs": [
        {
          "output_type": "stream",
          "name": "stdout",
          "text": [
            "Downloading data from https://storage.googleapis.com/tensorflow/tf-keras-datasets/mnist.npz\n",
            "11490434/11490434 [==============================] - 0s 0us/step\n",
            "Epoch 1/20\n",
            "1875/1875 [==============================] - 24s 12ms/step - loss: 0.1526 - accuracy: 0.9546\n",
            "Epoch 2/20\n",
            "1875/1875 [==============================] - 22s 12ms/step - loss: 0.0531 - accuracy: 0.9833\n",
            "Epoch 3/20\n",
            "1875/1875 [==============================] - 22s 12ms/step - loss: 0.0351 - accuracy: 0.9891\n",
            "Epoch 4/20\n",
            "1875/1875 [==============================] - 22s 12ms/step - loss: 0.0228 - accuracy: 0.9929\n",
            "Epoch 5/20\n",
            "1875/1875 [==============================] - 23s 12ms/step - loss: 0.0149 - accuracy: 0.9952\n",
            "Epoch 6/20\n",
            "1875/1875 [==============================] - 22s 12ms/step - loss: 0.0114 - accuracy: 0.9961\n",
            "Epoch 7/20\n",
            "1875/1875 [==============================] - 22s 12ms/step - loss: 0.0087 - accuracy: 0.9969\n",
            "Epoch 8/20\n",
            "1875/1875 [==============================] - 22s 12ms/step - loss: 0.0063 - accuracy: 0.9977\n",
            "Epoch 9/20\n",
            "1871/1875 [============================>.] - ETA: 0s - loss: 0.0053 - accuracy: 0.9981\n",
            "Достигнута точность 99,8%, поэтому обучение прервано!\n",
            "1875/1875 [==============================] - 22s 12ms/step - loss: 0.0053 - accuracy: 0.9981\n",
            "[0, 1, 2, 3, 4, 5, 6, 7, 8] 0.998116672039032\n"
          ]
        }
      ],
      "source": [
        "import tensorflow as tf\n",
        "\n",
        "class myCallback(tf.keras.callbacks.Callback):\n",
        "    def on_epoch_end(self, epoch, logs={}):\n",
        "        if(logs.get('accuracy')>0.998):\n",
        "            print(\"\\nДостигнута точность 99,8%, поэтому обучение прервано!\")\n",
        "            self.model.stop_training = True\n",
        "\n",
        "mnist = tf.keras.datasets.mnist\n",
        "(training_images, training_labels), (test_images, test_labels) = mnist.load_data()\n",
        "\n",
        "training_images=training_images.reshape(60000, 28, 28, 1)\n",
        "training_images=training_images / 255.0\n",
        "test_images = test_images.reshape(10000, 28, 28, 1)\n",
        "test_images=test_images/255.0\n",
        "\n",
        "callbacks = myCallback()\n",
        "\n",
        "model = tf.keras.models.Sequential([\n",
        "    tf.keras.layers.Conv2D(32, (3,3), activation='relu', input_shape=(28, 28, 1)),\n",
        "    tf.keras.layers.MaxPooling2D(2, 2),\n",
        "    tf.keras.layers.Flatten(),\n",
        "    tf.keras.layers.Dense(128, activation='relu'),\n",
        "    tf.keras.layers.Dense(10, activation='softmax')\n",
        "])\n",
        "\n",
        "model.compile(optimizer='adam', loss='sparse_categorical_crossentropy', metrics=['accuracy'])\n",
        "\n",
        "history = model.fit(training_images, training_labels, epochs=20, callbacks=[callbacks])\n",
        "\n",
        "print(history.epoch, history.history['accuracy'][-1])"
      ]
    }
  ]
}